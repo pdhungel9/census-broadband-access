{
 "cells": [
  {
   "cell_type": "markdown",
   "source": [
    "\n",
    "To install packages in anaconda prompt:\n",
    "conda install -c conda-forge cenpy\n",
    "FIXME: the above contains incomplete packages\n",
    "\n",
    "\n",
    "I had some trouble installing cenpy (some of the source files were missing lines). In case you have the same issue:\n",
    "(This upgrades and downgraded a bunch of packages for me, so you may want to be in a virtual environment)\n",
    "Update Microsoft Visual C++\n",
    "\n",
    "Install the following:\n",
    "pip install wheel\n",
    "pip install pipwin\n",
    "pip install numpy\n",
    "pip install pandas\n",
    "pip install shapely\n",
    "conda install -c conda-forge gdal\n",
    "conda install fiona\n",
    "conda install pyproj\n",
    "conda install six\n",
    "conda install rtree\n",
    "conda install geopandas\n",
    "\n",
    "To install packages in anaconda prompt:\n",
    "conda install -c conda-forge cenpy\n"
   ],
   "metadata": {
    "collapsed": false,
    "pycharm": {
     "name": "#%% md\n"
    }
   }
  },
  {
   "cell_type": "code",
   "execution_count": 1,
   "outputs": [],
   "source": [
    "\n",
    "\n",
    "# Import\n",
    "import cenpy\n",
    "# from cenpy import products  # TODO remove\n",
    "from cenpy import products\n",
    "import matplotlib.pyplot as plt\n",
    "%matplotlib inline"
   ],
   "metadata": {
    "collapsed": false,
    "pycharm": {
     "name": "#%%\n"
    }
   }
  },
  {
   "cell_type": "code",
   "execution_count": 2,
   "outputs": [
    {
     "data": {
      "text/plain": "'C:\\\\Users\\\\Wolfs\\\\anaconda3\\\\lib\\\\site-packages\\\\cenpy\\\\SITEKEY.txt'"
     },
     "execution_count": 2,
     "metadata": {},
     "output_type": "execute_result"
    }
   ],
   "source": [
    "# Save your API key as \"deliverable1/api.key\"\n",
    "# Read in API key:\n",
    "with open(\"api.key\", \"r\") as my_file:\n",
    "    api_key = my_file.readline()\n",
    "\n",
    "# Set remote connection:\n",
    "cenpy.set_sitekey(api_key)"
   ],
   "metadata": {
    "collapsed": false,
    "pycharm": {
     "name": "#%%\n"
    }
   }
  },
  {
   "cell_type": "code",
   "execution_count": 3,
   "outputs": [],
   "source": [
    "# Variables of interest:\n",
    "total_population =[\"B01003_001E\"]\n",
    "# Vacancy status variables:\n",
    "vacancy_vars = [\"B25004_001E\", \"B25004_002E\", \"B25004_003E\", \"B25004_004E\",\n",
    "                  \"B25004_005E\", \"B25004_006E\", \"B25004_007E\", \"B25004_008E\",\n",
    "                  \"B25005_001E\", \"B25005_002E\", \"B25005_003E\"]\n",
    "# Internet/Broadband variable:\n",
    "# (there are more variables, check out the 2019 acs variables list)\n",
    "internet_variables = [\"B28002_001E\", \"B28002_002E\", \"B28002_003E\",\n",
    "                        \"B28002_004E\", \"B28002_005E\", \"B28002_006E\",\n",
    "                        \"B28002_007E\", \"B28002_008E\", \"B28002_009E\",\n",
    "                        \"B28002_010E\", \"B28002_011E\", \"B28002_012E\",\n",
    "                        \"B28002_013E\"]\n",
    "# Variables:\n",
    "all_vars = total_population + vacancy_vars + internet_variables\n",
    "# print(all_vars)"
   ],
   "metadata": {
    "collapsed": false,
    "pycharm": {
     "name": "#%%\n"
    }
   }
  },
  {
   "cell_type": "code",
   "execution_count": 4,
   "outputs": [
    {
     "ename": "IndexError",
     "evalue": "Replacement index 1 out of range for positional args tuple",
     "output_type": "error",
     "traceback": [
      "\u001B[1;31m---------------------------------------------------------------------------\u001B[0m",
      "\u001B[1;31mIndexError\u001B[0m                                Traceback (most recent call last)",
      "\u001B[1;32m<ipython-input-4-a310937cf0ce>\u001B[0m in \u001B[0;36m<module>\u001B[1;34m\u001B[0m\n\u001B[0;32m      1\u001B[0m \u001B[1;31m# Get a dataset:\u001B[0m\u001B[1;33m\u001B[0m\u001B[1;33m\u001B[0m\u001B[1;33m\u001B[0m\u001B[0m\n\u001B[1;32m----> 2\u001B[1;33m \u001B[0mthe_data\u001B[0m \u001B[1;33m=\u001B[0m \u001B[0mcenpy\u001B[0m\u001B[1;33m.\u001B[0m\u001B[0mproducts\u001B[0m\u001B[1;33m.\u001B[0m\u001B[0mACS\u001B[0m\u001B[1;33m(\u001B[0m\u001B[1;36m2019\u001B[0m\u001B[1;33m)\u001B[0m\u001B[1;33m.\u001B[0m\u001B[0mfrom_state\u001B[0m\u001B[1;33m(\u001B[0m\u001B[0mstate\u001B[0m\u001B[1;33m=\u001B[0m\u001B[1;34m\"MA\"\u001B[0m\u001B[1;33m,\u001B[0m \u001B[0mlevel\u001B[0m\u001B[1;33m=\u001B[0m\u001B[1;34m\"blockgroup\"\u001B[0m\u001B[1;33m,\u001B[0m \u001B[0mvariables\u001B[0m\u001B[1;33m=\u001B[0m\u001B[0mall_vars\u001B[0m\u001B[1;33m)\u001B[0m\u001B[1;33m\u001B[0m\u001B[1;33m\u001B[0m\u001B[0m\n\u001B[0m",
      "\u001B[1;32m~\\anaconda3\\lib\\site-packages\\cenpy\\products.py\u001B[0m in \u001B[0;36mfrom_state\u001B[1;34m(self, state, variables, level, **kwargs)\u001B[0m\n\u001B[0;32m    765\u001B[0m \u001B[1;33m\u001B[0m\u001B[0m\n\u001B[0;32m    766\u001B[0m     \u001B[1;32mdef\u001B[0m \u001B[0mfrom_state\u001B[0m\u001B[1;33m(\u001B[0m\u001B[0mself\u001B[0m\u001B[1;33m,\u001B[0m \u001B[0mstate\u001B[0m\u001B[1;33m,\u001B[0m \u001B[0mvariables\u001B[0m\u001B[1;33m=\u001B[0m\u001B[1;32mNone\u001B[0m\u001B[1;33m,\u001B[0m \u001B[0mlevel\u001B[0m\u001B[1;33m=\u001B[0m\u001B[1;34m\"tract\"\u001B[0m\u001B[1;33m,\u001B[0m \u001B[1;33m**\u001B[0m\u001B[0mkwargs\u001B[0m\u001B[1;33m)\u001B[0m\u001B[1;33m:\u001B[0m\u001B[1;33m\u001B[0m\u001B[1;33m\u001B[0m\u001B[0m\n\u001B[1;32m--> 767\u001B[1;33m         \u001B[1;32mreturn\u001B[0m \u001B[0mself\u001B[0m\u001B[1;33m.\u001B[0m\u001B[0m_from_name\u001B[0m\u001B[1;33m(\u001B[0m\u001B[0mstate\u001B[0m\u001B[1;33m,\u001B[0m \u001B[0mvariables\u001B[0m\u001B[1;33m,\u001B[0m \u001B[0mlevel\u001B[0m\u001B[1;33m,\u001B[0m \u001B[1;34m\"States\"\u001B[0m\u001B[1;33m,\u001B[0m \u001B[1;33m**\u001B[0m\u001B[0mkwargs\u001B[0m\u001B[1;33m)\u001B[0m\u001B[1;33m\u001B[0m\u001B[1;33m\u001B[0m\u001B[0m\n\u001B[0m\u001B[0;32m    768\u001B[0m \u001B[1;33m\u001B[0m\u001B[0m\n\u001B[0;32m    769\u001B[0m     from_state.__doc__ = _Product.from_place.__doc__.replace(\"place\", \"state\").replace(\n",
      "\u001B[1;32m~\\anaconda3\\lib\\site-packages\\cenpy\\products.py\u001B[0m in \u001B[0;36m_from_name\u001B[1;34m(self, place, variables, level, layername, return_geometry, cache_name, strict_within, return_bounds, geometry_precision)\u001B[0m\n\u001B[0;32m    702\u001B[0m         \u001B[1;32mif\u001B[0m \u001B[0mlevel\u001B[0m \u001B[1;32mnot\u001B[0m \u001B[1;32min\u001B[0m \u001B[0mself\u001B[0m\u001B[1;33m.\u001B[0m\u001B[0m_layer_lookup\u001B[0m\u001B[1;33m.\u001B[0m\u001B[0mkeys\u001B[0m\u001B[1;33m(\u001B[0m\u001B[1;33m)\u001B[0m\u001B[1;33m:\u001B[0m\u001B[1;33m\u001B[0m\u001B[1;33m\u001B[0m\u001B[0m\n\u001B[0;32m    703\u001B[0m             raise NotImplementedError(\n\u001B[1;32m--> 704\u001B[1;33m                 \u001B[1;34m\"Only levels {} are supported. You provided {}.\"\u001B[0m\u001B[1;33m\u001B[0m\u001B[1;33m\u001B[0m\u001B[0m\n\u001B[0m\u001B[0;32m    705\u001B[0m                 \u001B[1;34m\"Try picking the state containing that level,\"\u001B[0m\u001B[1;33m\u001B[0m\u001B[1;33m\u001B[0m\u001B[0m\n\u001B[0;32m    706\u001B[0m                 \u001B[1;34m\" and then selecting from that data after it is\"\u001B[0m\u001B[1;33m\u001B[0m\u001B[1;33m\u001B[0m\u001B[0m\n",
      "\u001B[1;31mIndexError\u001B[0m: Replacement index 1 out of range for positional args tuple"
     ]
    }
   ],
   "source": [
    "# Get a dataset:\n",
    "the_data = cenpy.products.ACS(2019).from_state(state=\"MA\", level=\"blockgroup\", variables=all_vars)"
   ],
   "metadata": {
    "collapsed": false,
    "pycharm": {
     "name": "#%%\n"
    }
   }
  }
 ],
 "metadata": {
  "kernelspec": {
   "display_name": "Python 3",
   "language": "python",
   "name": "python3"
  },
  "language_info": {
   "codemirror_mode": {
    "name": "ipython",
    "version": 2
   },
   "file_extension": ".py",
   "mimetype": "text/x-python",
   "name": "python",
   "nbconvert_exporter": "python",
   "pygments_lexer": "ipython2",
   "version": "2.7.6"
  }
 },
 "nbformat": 4,
 "nbformat_minor": 0
}